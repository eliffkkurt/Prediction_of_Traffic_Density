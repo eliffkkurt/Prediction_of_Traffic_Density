{
 "cells": [
  {
   "cell_type": "markdown",
   "metadata": {
    "id": "odUsuViTuZVN"
   },
   "source": [
    "<font color='green'> \n",
    "**Kodluyoruz - Data Science for Public Good (28.03.2020-20.06.2020)**\n",
    "\n",
    "İBB iş birliğiyle yürütülen programda İBB'den aldığımız **trafik duyuruları** ve **trafik yoğunluğu** veri setinden faydalanarak trafik yoğunluğunu tahmin eden model geliştirdik. \n",
    "</font>"
   ]
  },
  {
   "cell_type": "markdown",
   "metadata": {
    "id": "ZHvo335rv4jB"
   },
   "source": [
    "### İzlediğimiz Adımlar\n",
    "\n",
    "**1. Kütüphanelerin Yüklenmesi**\n",
    "\n",
    "**2. Verinin Okunması**\n",
    "\n",
    "**3. Verinin İncelenmesi**\n",
    "\n",
    "  * Aynı konumda saat aralıklarına bakıyoruz.\n",
    "  * sxk9u0 konumunun sınırda olduğundan hem Kağıthane hem Beşiktaş olarak verisinin olduğunu farkettik. Bunun gibi olan başka konum var mı kontrol ediyoruz.\n",
    "  * \"Trafik yoğunluk\" ve \"tkm duyuru\" verisinde bulunan geohashlerin eşleşme durumlarını ve birbirinden farklı geohashlerini tespit etmek için kod yazıyoruz.\n",
    "\n",
    "**4. Data setlerinin birleştirilmesi**\n",
    "\n",
    "* Traffic density ve TKM data framelerini birleştirmek için ön işlemlerin yapılması\n",
    "  * Trafik yoğunluk verileri ile TKM verilerinde sütun isimlerinin düzenlenmesi ve zamana göre sıralanması\n",
    "  * TKM - TIME sütunu saniyelerin sıfırlanması\n",
    "  * TIME sutunlarının sıralanması\n",
    "  * Farklı İki İlçede Aynı Geohashe Düşen Değerlerin Ortalamasının Alınması\n",
    "\n",
    "* Traffic density ve TKM data framelerinin birleştirilmesi\n",
    "\n",
    "**5. Feature Engineering Yapılması**\n",
    "\n",
    "* Merge edilmiş data setinde \"TIME\" columnundan anlamlı feature'lar çıkarılması\n",
    "  * TIME columnundan başka bilgiler çıkarabilmek için fonksiyon yazdık.\n",
    "  * Tarihin haftanın hangi gününe denk geldiği bilgisini ekledik.\n",
    "  * Tarihin yılın hangi ayına denk geldiği bilgisini ekledik.\n",
    "  * Saatin öğleden önce mi sonra mı olduğu bilgisini ekledik.\n",
    "  * Tarihin hafta sonuna denk gelip gelmediği bilgisini ekledik.\n",
    "  * İş Saatlerinin Eklenmesi\n",
    "  * Mevsim Sütunu Eklenmesi\n",
    "  * Resmi Tatil Sütunu Eklenmesi\n",
    "  * is_pandemic sutunu eklenmesi\n",
    "  * Okul Sütunu Eklenmesi\n",
    "  * Geohash6 ile Time sütununun birleştirilerek index olarak atanması\n",
    "\n",
    "Dosyanın Bu Halinin Feather ile Kaydedilmesi\n",
    "* Feature'ların Nan Değerlerinin Doldurulması\n",
    "* Modele Girecek Feature'ların Belirlenmesi\n",
    "* Modele Girecek Feature'ların Nümerik Değerlere Çevrilmesi\n",
    "* Tüm Feature'lar İçin One-hot Encoding Yapılması\n",
    "\n",
    "Dosyanın Bu Halinin Feather ile Kaydedilmesi\n",
    "* Hedef Değişken Olarak Belirlediğimiz Ortalama Hızın Sınıflandırma Algoritması İçin Düzenlenmesi\n",
    "\n",
    "Dosyanın Bu Halinin Feather ile Kaydedilmesi\n",
    "\n",
    "**6. Model Kurma**\n",
    "\n",
    "Kullanılan Algoritmalar\n",
    "* Random Forest\n",
    "* XGBoost\n",
    "* Logistic Regression\n",
    "\n",
    "**7. y değerinin belirlenmesi**\n",
    "\n",
    "**8. Görselleştirme Çalışması**\n",
    "\n",
    "* Trafik Yoğunluk Verisiyle Grafik Çalışmaları\n",
    "* TKM Verisindeki Kooordinat Verisinden Yararlanılarak Harita Görselleştirme Çalışması"
   ]
  },
  {
   "cell_type": "markdown",
   "metadata": {
    "id": "pzj3d2pbk5JV"
   },
   "source": [
    "### <font color='blue'/> **1. Kütüphanelerin Yüklenmesi**  </font>"
   ]
  },
  {
   "cell_type": "code",
   "execution_count": null,
   "metadata": {
    "id": "Uaqitj68k4H7"
   },
   "outputs": [],
   "source": [
    "pip install pygeohash "
   ]
  },
  {
   "cell_type": "code",
   "execution_count": null,
   "metadata": {
    "id": "L3-p-0tgk7-_"
   },
   "outputs": [],
   "source": [
    "import pandas as pd\n",
    "import numpy as np\n",
    "import pygeohash as pgh \n",
    "import seaborn as sns "
   ]
  },
  {
   "cell_type": "code",
   "execution_count": null,
   "metadata": {
    "id": "dteGMFxBk7im"
   },
   "outputs": [],
   "source": [
    "from google.colab import drive\n",
    "drive.mount('/content/gdrive')\n",
    "import os"
   ]
  },
  {
   "cell_type": "code",
   "execution_count": null,
   "metadata": {
    "id": "QxyyX8Hzk7B9"
   },
   "outputs": [],
   "source": [
    "os.chdir(\"/content/gdrive/My Drive/Colab Notebooks/Data\")"
   ]
  },
  {
   "cell_type": "markdown",
   "metadata": {
    "id": "6qI-10p5iU8k"
   },
   "source": [
    "### <font color='blue'/> **2. Verinin Okunması**  </font>"
   ]
  },
  {
   "cell_type": "markdown",
   "metadata": {
    "id": "KZL1W59GmJaf"
   },
   "source": [
    "**TKM Duyuru Data seti**"
   ]
  },
  {
   "cell_type": "code",
   "execution_count": null,
   "metadata": {
    "id": "Y4OeULivk6Yd"
   },
   "outputs": [],
   "source": [
    "tkm=pd.read_excel(\"TKM.xlsx\", index_col=0, encoding='utf-8')"
   ]
  },
  {
   "cell_type": "code",
   "execution_count": null,
   "metadata": {
    "id": "K21_E2iUmIZ6"
   },
   "outputs": [],
   "source": [
    "tkm.shape"
   ]
  },
  {
   "cell_type": "code",
   "execution_count": null,
   "metadata": {
    "id": "yKiZaSaSnK1W"
   },
   "outputs": [],
   "source": [
    "tkm.head()"
   ]
  },
  {
   "cell_type": "code",
   "execution_count": null,
   "metadata": {
    "id": "ZXW3LGV4mhL0"
   },
   "outputs": [],
   "source": [
    "df_tkm=tkm.copy()"
   ]
  },
  {
   "cell_type": "code",
   "execution_count": null,
   "metadata": {
    "id": "P9dRzG_2mHgz"
   },
   "outputs": [],
   "source": [
    "df_tkm.drop([\"GEOHASH_CHECK\",\"TRAFIK_DENSITY_Geohash\"], axis=1, inplace=True) "
   ]
  },
  {
   "cell_type": "code",
   "execution_count": null,
   "metadata": {
    "id": "JaNfOsfAnSx0"
   },
   "outputs": [],
   "source": [
    "df_tkm.head()"
   ]
  },
  {
   "cell_type": "code",
   "execution_count": null,
   "metadata": {
    "id": "I5QgBWxRnSKu"
   },
   "outputs": [],
   "source": [
    "df_tkm[\"ANNOUNCE_TYPE\"].value_counts()"
   ]
  },
  {
   "cell_type": "code",
   "execution_count": null,
   "metadata": {
    "id": "khwgIW1BdmGw"
   },
   "outputs": [],
   "source": [
    "df_tkm[df_tkm[\"ANNOUNCE_TYPE\"]==\"HABER\"]"
   ]
  },
  {
   "cell_type": "code",
   "execution_count": null,
   "metadata": {
    "id": "zVJSfnfox59E"
   },
   "outputs": [],
   "source": [
    "df_tkm['COUNTY_NAME'].value_counts()"
   ]
  },
  {
   "cell_type": "markdown",
   "metadata": {
    "id": "RwSJj9DuoM8J"
   },
   "source": [
    "**Traffic Density veri seti**"
   ]
  },
  {
   "cell_type": "code",
   "execution_count": null,
   "metadata": {
    "id": "5Z3J1sqhnRja"
   },
   "outputs": [],
   "source": [
    "traffic=pd.read_json(\"TRAFFIC_DENSITY.json\")"
   ]
  },
  {
   "cell_type": "code",
   "execution_count": null,
   "metadata": {
    "id": "txtnGvPQnQ-Y"
   },
   "outputs": [],
   "source": [
    "traffic.shape"
   ]
  },
  {
   "cell_type": "code",
   "execution_count": null,
   "metadata": {
    "id": "HcZwbGNInQXL"
   },
   "outputs": [],
   "source": [
    "traffic.head()"
   ]
  },
  {
   "cell_type": "code",
   "execution_count": null,
   "metadata": {
    "id": "cUvatP9r3z1B"
   },
   "outputs": [],
   "source": [
    "df_traffic=traffic.copy()"
   ]
  },
  {
   "cell_type": "code",
   "execution_count": null,
   "metadata": {
    "id": "EBQuYsCoxwzj"
   },
   "outputs": [],
   "source": [
    "df_traffic['COUNTY_NAME'].value_counts()"
   ]
  },
  {
   "cell_type": "code",
   "execution_count": null,
   "metadata": {
    "id": "nJIK62r1kwrZ"
   },
   "outputs": [],
   "source": [
    "df_traffic.isnull().sum()"
   ]
  },
  {
   "cell_type": "markdown",
   "metadata": {
    "id": "Av6ZUYEzWkh_"
   },
   "source": [
    "### <font color='blue'/> **3. Verinin İncelenmesi**  </font>"
   ]
  },
  {
   "cell_type": "markdown",
   "metadata": {
    "id": "_GS6jACcVqz-"
   },
   "source": [
    "#### <font color='black'/> **Aynı konumda saat aralıklarına bakıyoruz.** </font> "
   ]
  },
  {
   "cell_type": "code",
   "execution_count": null,
   "metadata": {
    "id": "bW_1UVnxnPvI"
   },
   "outputs": [],
   "source": [
    "df_traffic[df_traffic['GEOHASH6']==\"sxk9u0\"].head(10).sort_values([\"DATE_TIME\"])"
   ]
  },
  {
   "cell_type": "markdown",
   "metadata": {
    "id": "YRcVruP8XKt-"
   },
   "source": [
    "#### <font color='black'/> **sxk9u0 konumunun sınırda olduğundan hem Kağıthane hem Beşiktaş olarak verisinin olduğunu farkettik. Bunun gibi olan başka konum var mı kontrol ediyoruz.** </font> "
   ]
  },
  {
   "cell_type": "code",
   "execution_count": null,
   "metadata": {
    "id": "IsXKBjGxUTkZ"
   },
   "outputs": [],
   "source": [
    "df_besiktas=df_traffic[df_traffic['COUNTY_NAME']=='BEŞİKTAŞ'].reset_index()  \n",
    "# reset_index() demeseydim indeksleri karışık bırakıyordu, aşağıda yazdığım for döngüsünde range(len..) kısmında sıkıntı çıkartıyordu.\n",
    "df_besiktas"
   ]
  },
  {
   "cell_type": "code",
   "execution_count": null,
   "metadata": {
    "id": "OSfojQmDUWJi"
   },
   "outputs": [],
   "source": [
    "df_kagithane=df_traffic[df_traffic['COUNTY_NAME']=='KAĞITHANE'].reset_index()\n",
    "df_kagithane"
   ]
  },
  {
   "cell_type": "code",
   "execution_count": null,
   "metadata": {
    "id": "8ORSlRo-UYKJ"
   },
   "outputs": [],
   "source": [
    "l=[]\n",
    "\n",
    "for i in range(len(df_besiktas)):\n",
    "    l.append(df_besiktas['GEOHASH6'][i])  # Beşiktaş'taki geohashleri listeye attım. \n",
    "    \n",
    "s_b=set(l) # Listeyi set'e çevirerek geohashleri bir kez almış oldum. \n",
    "# s_b"
   ]
  },
  {
   "cell_type": "code",
   "execution_count": null,
   "metadata": {
    "id": "_lkfq6NMUY-z"
   },
   "outputs": [],
   "source": [
    "m=[]\n",
    "\n",
    "for i in range(len(df_kagithane)):\n",
    "    m.append(df_kagithane['GEOHASH6'][i])\n",
    "    \n",
    "s_k=set(m)\n",
    "# s_k"
   ]
  },
  {
   "cell_type": "code",
   "execution_count": null,
   "metadata": {
    "id": "MATDgj-mX_D9"
   },
   "outputs": [],
   "source": [
    "list_besiktas=list(s_b)  # oluşturduğum setleri aşağıda for döngüsüne sokabilmek için tekrar listeye çevirmek durumunda kaldım.\n",
    "list_kagithane=list(s_k)"
   ]
  },
  {
   "cell_type": "code",
   "execution_count": null,
   "metadata": {
    "id": "rEnmJGnIYAjs"
   },
   "outputs": [],
   "source": [
    "p=[]\n",
    "\n",
    "for i in range(len(list_besiktas)):\n",
    "    for j in range(len(list_kagithane)):\n",
    "        if list_besiktas[i]==list_kagithane[j]:  \n",
    "            p.append(list_besiktas[i])\n",
    " # Beşiktaş'ın geohash listesinde bulunan elemanlar Kağıthane'de de bulunuyorsa o elemanları bir listeye ekle dedim.           \n",
    "p"
   ]
  },
  {
   "cell_type": "markdown",
   "metadata": {
    "id": "_u9-MEfFqajX"
   },
   "source": [
    "#### <font color='black'/> **\"Trafik yoğunluk\" ve \"tkm duyuru\" verisinde bulunan geohashlerin eşleşme durumlarını ve birbirinden farklı geohashlerini tespit etmek için aşağıdaki kodu yazdık.** </font> "
   ]
  },
  {
   "cell_type": "code",
   "execution_count": null,
   "metadata": {
    "id": "W8tr102lqdgD"
   },
   "outputs": [],
   "source": [
    "traffic_geohash=df_traffic['GEOHASH6']  # Trafik datasındaki geohash sütununu çektim.\n",
    "traffic_geohash"
   ]
  },
  {
   "cell_type": "code",
   "execution_count": null,
   "metadata": {
    "id": "9bKszPlGw8VB"
   },
   "outputs": [],
   "source": [
    "list_traffic=list(traffic_geohash.values)\n",
    "s_traffic=set(list_traffic)"
   ]
  },
  {
   "cell_type": "code",
   "execution_count": null,
   "metadata": {
    "id": "JiXd6DJ-vnzA"
   },
   "outputs": [],
   "source": [
    "len(s_traffic)"
   ]
  },
  {
   "cell_type": "code",
   "execution_count": null,
   "metadata": {
    "id": "o6uq2dzFv7Wo"
   },
   "outputs": [],
   "source": [
    "tkm_geohash=df_tkm['ANNOUNCE_GEOHASH6']     # Tkm datasındaki geohash sütununu çektim.\n",
    "tkm_geohash"
   ]
  },
  {
   "cell_type": "code",
   "execution_count": null,
   "metadata": {
    "id": "TTrCq3K3xd3t"
   },
   "outputs": [],
   "source": [
    "list_tkm=list(tkm_geohash.values)\n",
    "s_tkm=set(list_tkm)"
   ]
  },
  {
   "cell_type": "code",
   "execution_count": null,
   "metadata": {
    "id": "pPS78EiKqpfX"
   },
   "outputs": [],
   "source": [
    "len(s_tkm)"
   ]
  },
  {
   "cell_type": "code",
   "execution_count": null,
   "metadata": {
    "id": "4IDSwrs5qpQN"
   },
   "outputs": [],
   "source": [
    "traffic_unique_list=list(s_traffic)   # oluşturduğum setleri aşağıda for döngüsüne sokabilmek için listeye çevirdim.\n",
    "tkm_unique_list=list(s_tkm)"
   ]
  },
  {
   "cell_type": "code",
   "execution_count": null,
   "metadata": {
    "id": "sO7lgN50qtlc"
   },
   "outputs": [],
   "source": [
    "same_geohash_list=[]\n",
    "\n",
    "for i in range(len(traffic_unique_list)):\n",
    "    for j in range(len(tkm_unique_list)):\n",
    "        if traffic_unique_list[i]==tkm_unique_list[j]: # Hem trafik datasında bulunan hem de tkm datasında bulunan geohashleri listeye ekledim.\n",
    "            same_geohash_list.append(traffic_unique_list[i])\n",
    "            \n",
    "len(same_geohash_list) # İkisinde de olan geohashlerin sayısı 134'müş."
   ]
  },
  {
   "cell_type": "code",
   "execution_count": null,
   "metadata": {
    "id": "BMGyOx_fqv9x"
   },
   "outputs": [],
   "source": [
    "exist_traffic_geohash=traffic_unique_list.copy()\n",
    "for e in same_geohash_list:\n",
    "    exist_traffic_geohash.remove(e)  # trafik datasında olan ama tkm datasında olmayan geohashleri buldum.\n",
    "    \n",
    "len(exist_traffic_geohash) # 152-134=18 "
   ]
  },
  {
   "cell_type": "code",
   "execution_count": null,
   "metadata": {
    "id": "pxqVT-_RqtTU"
   },
   "outputs": [],
   "source": [
    "exist_tkm_geohash=tkm_unique_list.copy()\n",
    "for e in same_geohash_list:\n",
    "    exist_tkm_geohash.remove(e) # tkm datasında olan ama trafik datasında olmayan geohashleri buldum.\n",
    "    \n",
    "len(exist_tkm_geohash)"
   ]
  },
  {
   "cell_type": "markdown",
   "metadata": {
    "id": "8dDi2e0loMVj"
   },
   "source": [
    "### <font color='blue'/> **4. Data setlerinin birleştirilmesi** </font>"
   ]
  },
  {
   "cell_type": "markdown",
   "metadata": {
    "id": "XN64JIUisjuN"
   },
   "source": [
    "#### <font color='black'/> **Traffic density ve TKM data framelerini birleştirmek için ön işlemlerin yapılması** </font>"
   ]
  },
  {
   "cell_type": "markdown",
   "metadata": {
    "id": "w4KkUun_wwqQ"
   },
   "source": [
    "##### <font color='brown'/> **Trafik yoğunluk verileri ile TKM verilerinde sütun isimlerinin düzenlenmesi ve zamana göre sıralanması** </font>"
   ]
  },
  {
   "cell_type": "code",
   "execution_count": null,
   "metadata": {
    "id": "n44pJHfLwvH7"
   },
   "outputs": [],
   "source": [
    "df_traffic.rename(columns={'DATE_TIME':'TIME'}, inplace=True) \n",
    "df_traffic.columns  # Tarihe ve geohash kodlarına göre verileri birleştireceğimiz için sütun isimlerini eşitliyoruz"
   ]
  },
  {
   "cell_type": "code",
   "execution_count": null,
   "metadata": {
    "id": "UtethLquwvLr"
   },
   "outputs": [],
   "source": [
    "df_tkm.rename(columns={'ANNOUNCE_TIME':'TIME','ANNOUNCE_GEOHASH6':'GEOHASH6'}, inplace=True)\n",
    "df_tkm.columns"
   ]
  },
  {
   "cell_type": "code",
   "execution_count": null,
   "metadata": {
    "id": "k3-g6rPO04yD"
   },
   "outputs": [],
   "source": [
    "df_traffic.sort_values(by=['TIME','GEOHASH6'],inplace=True)\n",
    "df_tkm.sort_values(by=['TIME','GEOHASH6'],inplace=True)"
   ]
  },
  {
   "cell_type": "markdown",
   "metadata": {
    "id": "icLuedKpsxXE"
   },
   "source": [
    "##### <font color='brown'/> **TKM - TIME sütunu saniyelerin sıfırlanması**  </font>"
   ]
  },
  {
   "cell_type": "markdown",
   "metadata": {
    "id": "fyCNbA-OxNhx"
   },
   "source": [
    "TKM veri setinde TIME sutunu: (Yıl /ay /gün) - (saat / dakika / saniye) şeklinde tutuluyor. merge tolerance problemini çözmek için saniyeleri 0 lamak istiyoruz. Bunun için formattan saniyeyi kaldırabilir, aynı şeyi traffic density dataframe'ine de uygulayabiliriz."
   ]
  },
  {
   "cell_type": "code",
   "execution_count": null,
   "metadata": {
    "id": "zVQzB_W_vi30"
   },
   "outputs": [],
   "source": [
    "# bu ne zaman gerekli bak import datetime "
   ]
  },
  {
   "cell_type": "code",
   "execution_count": null,
   "metadata": {
    "id": "TPRGwH0YwQeC"
   },
   "outputs": [],
   "source": [
    "df_tkm['TIME']"
   ]
  },
  {
   "cell_type": "code",
   "execution_count": null,
   "metadata": {
    "id": "AV-x-pm0EopV"
   },
   "outputs": [],
   "source": [
    "df_tkm['TIME'] = pd.to_datetime(df_tkm['TIME'])\n",
    "df_tkm['TIME'] = df_tkm['TIME'].apply(lambda t: t.replace(second=0))"
   ]
  },
  {
   "cell_type": "code",
   "execution_count": null,
   "metadata": {
    "id": "5b5iXARZN-3U"
   },
   "outputs": [],
   "source": [
    "type(df_tkm.loc[1,\"TIME\"])  "
   ]
  },
  {
   "cell_type": "code",
   "execution_count": null,
   "metadata": {
    "id": "kV1IoFEFdzeh"
   },
   "outputs": [],
   "source": [
    "type(df_traffic.loc[1,\"TIME\"])"
   ]
  },
  {
   "cell_type": "code",
   "execution_count": null,
   "metadata": {
    "id": "UjZkYWb33EzL"
   },
   "outputs": [],
   "source": [
    "df_tkm['TIME']"
   ]
  },
  {
   "cell_type": "markdown",
   "metadata": {
    "id": "bZYP4t8ygevC"
   },
   "source": [
    "##### <font color='brown'/> **TIME sutunlarını sıraladık.** </font>  "
   ]
  },
  {
   "cell_type": "code",
   "execution_count": null,
   "metadata": {
    "id": "mTAPBmJhzX4v"
   },
   "outputs": [],
   "source": [
    "df_traffic.sort_values(by=['TIME','GEOHASH6'],inplace=True)\n",
    "df_tkm.sort_values(by=['TIME','GEOHASH6'],inplace=True)"
   ]
  },
  {
   "cell_type": "code",
   "execution_count": null,
   "metadata": {
    "id": "JgnmdE6e7K1t"
   },
   "outputs": [],
   "source": [
    "df_traffic.tail()"
   ]
  },
  {
   "cell_type": "code",
   "execution_count": null,
   "metadata": {
    "id": "Na63KEBm7WIc"
   },
   "outputs": [],
   "source": [
    "df_tkm.tail()"
   ]
  },
  {
   "cell_type": "markdown",
   "metadata": {
    "id": "dqgnLg5EaXIf"
   },
   "source": [
    "##### <font color='brown'/> **Farklı İki İlçede Aynı Geohashe Düşen Değerlerin Ortalamasının Alınması.** </font> "
   ]
  },
  {
   "cell_type": "code",
   "execution_count": null,
   "metadata": {
    "id": "qpHLm2SahNyW"
   },
   "outputs": [],
   "source": [
    "df_traffic"
   ]
  },
  {
   "cell_type": "code",
   "execution_count": null,
   "metadata": {
    "id": "0txuZc84aZPp"
   },
   "outputs": [],
   "source": [
    "#kesişimde kalan geohashlerin indexlerini filter_1 e atadik. yani istediğimiz indexleri filter 1 tutuyor.\n",
    "intersect_geo=['sxk9sp', 'sxk9sn', 'sxk9u0', 'sxk9u1', 'sxk9sj']\n",
    "filter_1 = df_traffic[\"GEOHASH6\"].isin(intersect_geo)"
   ]
  },
  {
   "cell_type": "code",
   "execution_count": null,
   "metadata": {
    "id": "WAVsoFTQ6tkr"
   },
   "outputs": [],
   "source": [
    "filter_1"
   ]
  },
  {
   "cell_type": "code",
   "execution_count": null,
   "metadata": {
    "id": "z1xegZxbab0o"
   },
   "outputs": [],
   "source": [
    "#traffic yoğunluğu df'sinde, istedigimiz geohashler ile kesişen satirlari  vals  df sine atadik. \n",
    "vals = df_traffic[filter_1].groupby(['TIME', \"GEOHASH6\",\"COUNTY_NAME\"], as_index=False)[['VEHICLE_COUNT','AVG_SPEED']].mean()"
   ]
  },
  {
   "cell_type": "code",
   "execution_count": null,
   "metadata": {
    "id": "MDc0bWjyadhY"
   },
   "outputs": [],
   "source": [
    "vals"
   ]
  },
  {
   "cell_type": "code",
   "execution_count": null,
   "metadata": {
    "id": "ncznW_D-hd7q"
   },
   "outputs": [],
   "source": [
    "df_traffic.drop(df_traffic[filter_1].index, inplace = True)\n",
    "# kesişen satırların hepsini kaldırıyoruz daha sonra ortalamasını aldığımız satırları ekleyeceğiz"
   ]
  },
  {
   "cell_type": "code",
   "execution_count": null,
   "metadata": {
    "id": "he2GHvENi2oj"
   },
   "outputs": [],
   "source": [
    "df_traffic"
   ]
  },
  {
   "cell_type": "code",
   "execution_count": null,
   "metadata": {
    "id": "1xKrCt9NaiV2"
   },
   "outputs": [],
   "source": [
    "vals.replace(regex=['KAĞITHANE'], value='BEŞİKTAŞ',inplace=True)"
   ]
  },
  {
   "cell_type": "code",
   "execution_count": null,
   "metadata": {
    "id": "oBZzNOzkai8C"
   },
   "outputs": [],
   "source": [
    "vals"
   ]
  },
  {
   "cell_type": "code",
   "execution_count": null,
   "metadata": {
    "id": "1ymSw8HfamLH"
   },
   "outputs": [],
   "source": [
    "vals_1 = vals.groupby(['TIME', \"GEOHASH6\",\"COUNTY_NAME\"], as_index=False)[['VEHICLE_COUNT','AVG_SPEED']].mean()"
   ]
  },
  {
   "cell_type": "code",
   "execution_count": null,
   "metadata": {
    "id": "NQpuPX1SaobQ"
   },
   "outputs": [],
   "source": [
    "vals_1"
   ]
  },
  {
   "cell_type": "code",
   "execution_count": null,
   "metadata": {
    "id": "c5mLOR7tjBIi"
   },
   "outputs": [],
   "source": [
    "df_traffic=df_traffic.append(vals_1, sort=False)"
   ]
  },
  {
   "cell_type": "code",
   "execution_count": null,
   "metadata": {
    "id": "sY36mRcljDbY"
   },
   "outputs": [],
   "source": [
    "df_traffic"
   ]
  },
  {
   "cell_type": "code",
   "execution_count": null,
   "metadata": {
    "id": "6vVMN-CUVzxI"
   },
   "outputs": [],
   "source": [
    "df_traffic.sort_values(by=['TIME','GEOHASH6'],inplace=True)"
   ]
  },
  {
   "cell_type": "code",
   "execution_count": null,
   "metadata": {
    "id": "t-AGU7DfEL71"
   },
   "outputs": [],
   "source": [
    "df_traffic"
   ]
  },
  {
   "cell_type": "markdown",
   "metadata": {
    "id": "hdwzBG63jzmM"
   },
   "source": [
    "#### <font color='black'/> **Traffic density ve TKM data framelerinin birleştirilmesi** </font>"
   ]
  },
  {
   "cell_type": "code",
   "execution_count": null,
   "metadata": {
    "id": "w8XmFnXohOfd"
   },
   "outputs": [],
   "source": [
    "df_tkm.columns  "
   ]
  },
  {
   "cell_type": "code",
   "execution_count": null,
   "metadata": {
    "id": "OzkBwKYEhTnF"
   },
   "outputs": [],
   "source": [
    "df_traffic.columns"
   ]
  },
  {
   "cell_type": "code",
   "execution_count": null,
   "metadata": {
    "id": "ECQzqTQ2yEes"
   },
   "outputs": [],
   "source": [
    "data=pd.merge_asof(left=df_traffic,right=df_tkm,by=['GEOHASH6'], on='TIME',direction='nearest',tolerance=pd.Timedelta('15minute'))\n",
    "data.head(100)"
   ]
  },
  {
   "cell_type": "code",
   "execution_count": null,
   "metadata": {
    "id": "imhxJUydljks"
   },
   "outputs": [],
   "source": [
    "data.isnull().sum()"
   ]
  },
  {
   "cell_type": "code",
   "execution_count": null,
   "metadata": {
    "id": "gn9FmK0ci9LB"
   },
   "outputs": [],
   "source": [
    "data.tail()"
   ]
  },
  {
   "cell_type": "markdown",
   "metadata": {
    "id": "yqLopnJku8dz"
   },
   "source": [
    "### <font color='blue'/> **5. Feature Engineering Yapılması** </font>"
   ]
  },
  {
   "cell_type": "markdown",
   "metadata": {
    "id": "bAGVbYn4p__t"
   },
   "source": [
    "#### <font color='black'/> **Merge edilmiş data setinde \"TIME\" columnundan anlamlı feature'lar çıkarılması** </font>"
   ]
  },
  {
   "cell_type": "markdown",
   "metadata": {
    "id": "wv2b1dIXxFd1"
   },
   "source": [
    "##### <font color='brown'/> **TIME columnundan başka bilgiler çıkarabilmek için fonksiyon yazdık.**  </font>"
   ]
  },
  {
   "cell_type": "code",
   "execution_count": null,
   "metadata": {
    "id": "rGAK7kyVxI2m"
   },
   "outputs": [],
   "source": [
    "def add_datepart(df, dt_name):\n",
    "# drop=True ekleyip aşağıdaki if'i yazabiliriz sadece True dediğimizde eklesin istiyorsak\n",
    " \n",
    "    dt_column = df[dt_name]\n",
    "    \n",
    "    attr = ['Year', 'Week', 'Day','Hour', 'Minute','Dayofyear','Date',\n",
    "            'Is_month_end', 'Is_month_start','Is_quarter_start','Is_quarter_end', 'Is_year_end', 'Is_year_start']\n",
    "    \n",
    "    for a in attr: \n",
    "        \n",
    "        df[a] = getattr(dt_column.dt, a.lower())\n",
    "        \n",
    "   \n",
    "    #if drop: \n",
    "        #df.drop(dt_name, axis=1, inplace=True)"
   ]
  },
  {
   "cell_type": "code",
   "execution_count": null,
   "metadata": {
    "id": "WGrJn1yNxLEh"
   },
   "outputs": [],
   "source": [
    "add_datepart(data,\"TIME\")"
   ]
  },
  {
   "cell_type": "code",
   "execution_count": null,
   "metadata": {
    "id": "2n7p9n0WxJ_8"
   },
   "outputs": [],
   "source": [
    "data.tail()"
   ]
  },
  {
   "cell_type": "markdown",
   "metadata": {
    "id": "E9_4l9cDkoIM"
   },
   "source": [
    "##### <font color='brown'/> **Tarihin haftanın hangi gününe denk geldiği bilgisini ekledik.** </font>"
   ]
  },
  {
   "cell_type": "code",
   "execution_count": null,
   "metadata": {
    "id": "fH2OXBv-u1er"
   },
   "outputs": [],
   "source": [
    "data['DayofWeek'] = data['TIME'].dt.strftime('%A')\n",
    "data.head()"
   ]
  },
  {
   "cell_type": "markdown",
   "metadata": {
    "id": "akyfcAf2v-0G"
   },
   "source": [
    "##### <font color='brown'/> **Tarihin yılın hangi ayına denk geldiği bilgisini ekledik.** </font>"
   ]
  },
  {
   "cell_type": "code",
   "execution_count": null,
   "metadata": {
    "id": "1Dd90VKJu0vt"
   },
   "outputs": [],
   "source": [
    "data['Month'] = data['TIME'].dt.strftime('%B')\n",
    "data.tail()"
   ]
  },
  {
   "cell_type": "markdown",
   "metadata": {
    "id": "UA9Qy0pxxNbY"
   },
   "source": [
    "##### <font color='brown'/> **Saatin öğleden önce mi sonra mı olduğu bilgisini ekledik.** </font>"
   ]
  },
  {
   "cell_type": "code",
   "execution_count": null,
   "metadata": {
    "id": "NtuSa4Y4vx0p"
   },
   "outputs": [],
   "source": [
    "data['AM/PM'] = data['TIME'].dt.strftime('%p')\n",
    "data.tail()"
   ]
  },
  {
   "cell_type": "markdown",
   "metadata": {
    "id": "VN-Akbop7Ld8"
   },
   "source": [
    "##### <font color='brown'/> **Tarihin hafta sonuna denk gelip gelmediği bilgisini ekledik.** </font>"
   ]
  },
  {
   "cell_type": "code",
   "execution_count": null,
   "metadata": {
    "id": "LjpDZOK47KgL"
   },
   "outputs": [],
   "source": [
    "data['is_weekend'] = ((data[\"TIME\"].dt.dayofweek) // 5 == 1).astype(int)\n",
    "data.tail()"
   ]
  },
  {
   "cell_type": "markdown",
   "metadata": {
    "id": "P7SXy4txpUMY"
   },
   "source": [
    "##### <font color='brown'/>**İş Saatlerinin Eklenmesi**</font>"
   ]
  },
  {
   "cell_type": "code",
   "execution_count": null,
   "metadata": {
    "id": "octFx-l-Hr_H"
   },
   "outputs": [],
   "source": [
    "#set index işlemi yaparken TIME sütunu gitmesin diye kopyalanan sütun üzerinden işlem yapılacak\n",
    "data[\"copy_TIME\"]=data[\"TIME\"].copy() "
   ]
  },
  {
   "cell_type": "code",
   "execution_count": null,
   "metadata": {
    "id": "q3ttc4ACpS6e"
   },
   "outputs": [],
   "source": [
    "data.set_index('copy_TIME',inplace=True)"
   ]
  },
  {
   "cell_type": "code",
   "execution_count": null,
   "metadata": {
    "id": "qy2It1Lvpai0"
   },
   "outputs": [],
   "source": [
    "rush_morning=data.between_time('06:00:00', '09:00:00')\n",
    "rush_evening=data.between_time('17:00:00', '20:00:00')"
   ]
  },
  {
   "cell_type": "code",
   "execution_count": null,
   "metadata": {
    "id": "VTJNsEmvpaC2"
   },
   "outputs": [],
   "source": [
    "rush_hours_list=list(rush_morning.index.values.tolist())+list(rush_evening.index.values.tolist())"
   ]
  },
  {
   "cell_type": "code",
   "execution_count": null,
   "metadata": {
    "id": "YZEzVqyWpx6Q"
   },
   "outputs": [],
   "source": [
    "data['rush_hours'] = 0          \n",
    "data.loc[data.index.isin(rush_hours_list), 'rush_hours'] = 1 "
   ]
  },
  {
   "cell_type": "code",
   "execution_count": null,
   "metadata": {
    "id": "_z11ZUHVp0Lv"
   },
   "outputs": [],
   "source": [
    "data[data['rush_hours'] == 1] "
   ]
  },
  {
   "cell_type": "code",
   "execution_count": null,
   "metadata": {
    "id": "G8f5fuNMsJwq"
   },
   "outputs": [],
   "source": [
    "data.reset_index(drop=True, inplace=True)"
   ]
  },
  {
   "cell_type": "code",
   "execution_count": null,
   "metadata": {
    "id": "yAwEY89j9fPc"
   },
   "outputs": [],
   "source": [
    "data.head()"
   ]
  },
  {
   "cell_type": "markdown",
   "metadata": {
    "id": "w1XdtkWFsWFz"
   },
   "source": [
    "##### <font color='brown'/>**Mevsim Sütunu Eklenmesi**  </font>"
   ]
  },
  {
   "cell_type": "code",
   "execution_count": null,
   "metadata": {
    "id": "DK6AB8SCsQrH"
   },
   "outputs": [],
   "source": [
    "from datetime import datetime"
   ]
  },
  {
   "cell_type": "code",
   "execution_count": null,
   "metadata": {
    "id": "LTGnIvtPZW30"
   },
   "outputs": [],
   "source": [
    "Y=2020\n",
    "\n",
    "seasons = {'Summer':(datetime(Y,6,21), datetime(Y,9,22)),\n",
    "           'Autumn':(datetime(Y,9,23), datetime(Y,12,20)),\n",
    "           'Spring':(datetime(Y,3,21), datetime(Y,6,20))}\n",
    "\n",
    "\n",
    "def get_season(date):\n",
    "    for season,(season_start, season_end) in seasons.items():\n",
    "        if date>=season_start and date<= season_end:\n",
    "            return season\n",
    "    else:\n",
    "        return 'Winter'\n",
    "\n",
    "data['Season']= data['TIME'].map(get_season)"
   ]
  },
  {
   "cell_type": "code",
   "execution_count": null,
   "metadata": {
    "id": "HIU4QTwiBfsC"
   },
   "outputs": [],
   "source": [
    "print(\"When the date is\", data['TIME'].loc[1000], \"and the season is\", data['Season'].loc[1000])\n",
    "\n",
    "print(\"When the date is\", data['TIME'].loc[1050000], \"and the season is\", data['Season'].loc[1050000])\n",
    "\n",
    "print(\"When the date is\", data['TIME'].loc[1050000], \"and the season is\", data['Season'].loc[1050000])\n",
    "\n",
    "print(\"When the date is\", data['TIME'].loc[1552430], \"and the season is\", data['Season'].loc[1552430])"
   ]
  },
  {
   "cell_type": "code",
   "execution_count": null,
   "metadata": {
    "id": "fnrdQEQIsp-_"
   },
   "outputs": [],
   "source": [
    "data.head()"
   ]
  },
  {
   "cell_type": "markdown",
   "metadata": {
    "id": "gsPkfLVJvKfR"
   },
   "source": [
    "##### <font color='brown'/>**Resmi Tatil Sütunu Eklenmesi**</font>"
   ]
  },
  {
   "cell_type": "code",
   "execution_count": null,
   "metadata": {
    "id": "hmvgwGBekSjF"
   },
   "outputs": [],
   "source": [
    "df_public_holiday=pd.read_excel('ResmiTatiller.xlsx')"
   ]
  },
  {
   "cell_type": "code",
   "execution_count": null,
   "metadata": {
    "id": "jgrK3JEIkV19"
   },
   "outputs": [],
   "source": [
    "df_public_holiday"
   ]
  },
  {
   "cell_type": "code",
   "execution_count": null,
   "metadata": {
    "id": "RAr14oMXvepB"
   },
   "outputs": [],
   "source": [
    "holidays=df_public_holiday[\"Tarih\"].values.tolist()"
   ]
  },
  {
   "cell_type": "code",
   "execution_count": null,
   "metadata": {
    "id": "B2HusQ73vg92"
   },
   "outputs": [],
   "source": [
    "data['is_holiday']=data['TIME'].dt.date.astype('datetime64').isin(holidays)"
   ]
  },
  {
   "cell_type": "code",
   "execution_count": null,
   "metadata": {
    "id": "MGaZ1Yfhvfk7"
   },
   "outputs": [],
   "source": [
    "data['is_holiday']"
   ]
  },
  {
   "cell_type": "code",
   "execution_count": null,
   "metadata": {
    "id": "2zEmVVxCxGBr"
   },
   "outputs": [],
   "source": [
    "data.head()"
   ]
  },
  {
   "cell_type": "code",
   "execution_count": null,
   "metadata": {
    "id": "pVKhSBHlxUZr"
   },
   "outputs": [],
   "source": [
    "data.tail()"
   ]
  },
  {
   "cell_type": "code",
   "execution_count": null,
   "metadata": {
    "id": "lg2W84LkveCm"
   },
   "outputs": [],
   "source": [
    "data.loc[1570000]"
   ]
  },
  {
   "cell_type": "code",
   "execution_count": null,
   "metadata": {
    "id": "jJhMEwQVkXSV"
   },
   "outputs": [],
   "source": [
    "data.loc[1475800]"
   ]
  },
  {
   "cell_type": "markdown",
   "metadata": {
    "id": "onuKeL2eyu_H"
   },
   "source": [
    "##### <font color='brown'/>**is_pandemic sutunu eklenmesi** </font> "
   ]
  },
  {
   "cell_type": "code",
   "execution_count": null,
   "metadata": {
    "id": "m9CHz8ilzE65"
   },
   "outputs": [],
   "source": [
    "data[\"TIME\"]=pd.to_datetime(data[\"TIME\"]) "
   ]
  },
  {
   "cell_type": "code",
   "execution_count": null,
   "metadata": {
    "id": "zKDx9LiGzFlh"
   },
   "outputs": [],
   "source": [
    "pandemic_start_date=\"2020.03.11\"\n",
    "pandemic_end_date=\"2020.06.19\""
   ]
  },
  {
   "cell_type": "code",
   "execution_count": null,
   "metadata": {
    "id": "xZj-DrCkzERl"
   },
   "outputs": [],
   "source": [
    "pandemic_dates=(data[\"TIME\"]>= pandemic_start_date) & (data[\"TIME\"] <= pandemic_end_date)"
   ]
  },
  {
   "cell_type": "code",
   "execution_count": null,
   "metadata": {
    "id": "RTRmRf3GzUMj"
   },
   "outputs": [],
   "source": [
    "pandemic_dates_list=data[pandemic_dates].index.values.tolist()"
   ]
  },
  {
   "cell_type": "code",
   "execution_count": null,
   "metadata": {
    "id": "s8qyDgJozS_i"
   },
   "outputs": [],
   "source": [
    "data['is_pandemic'] = 0          \n",
    "data.loc[data.index.isin(pandemic_dates_list), 'is_pandemic'] = 1 "
   ]
  },
  {
   "cell_type": "code",
   "execution_count": null,
   "metadata": {
    "id": "jQIGPTjlzC52"
   },
   "outputs": [],
   "source": [
    "data[data['is_pandemic'] == 1] "
   ]
  },
  {
   "cell_type": "markdown",
   "metadata": {
    "id": "PMetg0QtNJmQ"
   },
   "source": [
    "##### <font color='brown'/>**Okul Sütunu Eklenmesi**</font> "
   ]
  },
  {
   "cell_type": "code",
   "execution_count": null,
   "metadata": {
    "id": "Ao4pKeU55BVw"
   },
   "outputs": [],
   "source": [
    "first_term_start_date=\"2019.09.09\"\n",
    "first_term_end_date=\"2020.01.17\"\n",
    "\n",
    "second_term_start_date=\"2020.02.03\"\n",
    "second_term_end_date=\"2020.03.15\" # pandemiden dolayı 16 Mart itibariyle tatil edilmişti. "
   ]
  },
  {
   "cell_type": "code",
   "execution_count": null,
   "metadata": {
    "id": "3QVUJjbg3mJn"
   },
   "outputs": [],
   "source": [
    "data[\"TIME\"]=pd.to_datetime(data[\"TIME\"]) "
   ]
  },
  {
   "cell_type": "code",
   "execution_count": null,
   "metadata": {
    "id": "JINjekvx5E3p"
   },
   "outputs": [],
   "source": [
    "first_term=(data[\"TIME\"]>= first_term_start_date) & (data[\"TIME\"] <= first_term_end_date)\n",
    "second_term=(data[\"TIME\"]>= second_term_start_date) & (data[\"TIME\"] <= second_term_end_date)"
   ]
  },
  {
   "cell_type": "code",
   "execution_count": null,
   "metadata": {
    "id": "M_4CPDY8DBQp"
   },
   "outputs": [],
   "source": [
    "school_dates_list=list(data[first_term].index.values.tolist())+list(data[second_term].index.values.tolist())"
   ]
  },
  {
   "cell_type": "code",
   "execution_count": null,
   "metadata": {
    "id": "O7OGQ5lEC_PP"
   },
   "outputs": [],
   "source": [
    "data['is_school'] = 0          \n",
    "data.loc[data.index.isin(school_dates_list), 'is_school'] = 1 "
   ]
  },
  {
   "cell_type": "code",
   "execution_count": null,
   "metadata": {
    "id": "iUPkPvekC9mj"
   },
   "outputs": [],
   "source": [
    "data[data['is_school'] == 0]   "
   ]
  },
  {
   "cell_type": "code",
   "execution_count": null,
   "metadata": {
    "id": "2iNtj_reBu8z"
   },
   "outputs": [],
   "source": [
    "data.head()"
   ]
  },
  {
   "cell_type": "markdown",
   "metadata": {
    "id": "xIbPo_4Kt2ux"
   },
   "source": [
    "##### <font color='brown'/> **Geohash6 ile Time sütununun birleştirilerek index olarak atanması**</font> "
   ]
  },
  {
   "cell_type": "code",
   "execution_count": null,
   "metadata": {
    "id": "REzMUqlkukTN"
   },
   "outputs": [],
   "source": [
    "data[\"combined\"]=data.apply(lambda x:\"%s_%s\" % (x[\"GEOHASH6\"],x[\"TIME\"]),axis=1)  # %s birleştir ve tek dize yap anlamında."
   ]
  },
  {
   "cell_type": "code",
   "execution_count": null,
   "metadata": {
    "id": "ygt30byfuk9P"
   },
   "outputs": [],
   "source": [
    "data.head()"
   ]
  },
  {
   "cell_type": "code",
   "execution_count": null,
   "metadata": {
    "id": "Ebn2CIbqujvW"
   },
   "outputs": [],
   "source": [
    "data.set_index('combined',inplace=True)"
   ]
  },
  {
   "cell_type": "code",
   "execution_count": null,
   "metadata": {
    "id": "yV5Ae6BFu_8O"
   },
   "outputs": [],
   "source": [
    "data.loc[\"sxk93r_2020-01-06 09:30:00\"]"
   ]
  },
  {
   "cell_type": "code",
   "execution_count": null,
   "metadata": {
    "id": "U9bRfuuF1FAE"
   },
   "outputs": [],
   "source": [
    "data.head()"
   ]
  },
  {
   "cell_type": "markdown",
   "metadata": {
    "id": "jDGnOXREi2Tn"
   },
   "source": [
    "#### <font color='green'/>**Dosyanın Bu Halinin Feather ile Kaydedilmesi**  </font> "
   ]
  },
  {
   "cell_type": "code",
   "execution_count": null,
   "metadata": {
    "id": "1otX_9AomHwM"
   },
   "outputs": [],
   "source": [
    "import os"
   ]
  },
  {
   "cell_type": "code",
   "execution_count": null,
   "metadata": {
    "id": "jI_IHO4RnB1a"
   },
   "outputs": [],
   "source": [
    "data=data.reset_index()"
   ]
  },
  {
   "cell_type": "code",
   "execution_count": null,
   "metadata": {
    "id": "1fRLKfOamVk6"
   },
   "outputs": [],
   "source": [
    "os.makedirs('tmp', exist_ok=True) # Don't give error if file is already there\n",
    "\n",
    "data.to_feather('tmp/raw')"
   ]
  },
  {
   "cell_type": "markdown",
   "metadata": {
    "id": "jv09FFKakDQr"
   },
   "source": [
    "#### <font color='black'/> **Feature'ların Nan Değerlerinin Doldurulması** </font>"
   ]
  },
  {
   "cell_type": "code",
   "execution_count": null,
   "metadata": {
    "id": "EnIfumsXNggF"
   },
   "outputs": [],
   "source": [
    "raw = pd.read_feather(\"tmp/raw\")"
   ]
  },
  {
   "cell_type": "code",
   "execution_count": null,
   "metadata": {
    "id": "q2MElgMCBTlU"
   },
   "outputs": [],
   "source": [
    "raw.isnull().sum()"
   ]
  },
  {
   "cell_type": "markdown",
   "metadata": {
    "id": "hywED0AnkkUe"
   },
   "source": [
    "##### <font color='brown'/>**ANNOUNCE_TYPE sütununda Nan değerlerin \"No Announce\" ile doldurulması**  </font> "
   ]
  },
  {
   "cell_type": "code",
   "execution_count": null,
   "metadata": {
    "id": "lkReeA9ERE8w"
   },
   "outputs": [],
   "source": [
    "raw[\"ANNOUNCE_TYPE\"].fillna(\"No Announce\", inplace = True)"
   ]
  },
  {
   "cell_type": "code",
   "execution_count": null,
   "metadata": {
    "id": "6NKIbtwwREZU"
   },
   "outputs": [],
   "source": [
    "raw[\"ANNOUNCE_TYPE\"].value_counts()"
   ]
  },
  {
   "cell_type": "code",
   "execution_count": null,
   "metadata": {
    "id": "SwkYi1HISZKh"
   },
   "outputs": [],
   "source": [
    "raw.set_index('combined',inplace=True)"
   ]
  },
  {
   "cell_type": "markdown",
   "metadata": {
    "id": "AzVfhvjAogxd"
   },
   "source": [
    "#### <font color='black'/> **Modele Girecek Feature'ların Belirlenmesi**</font> "
   ]
  },
  {
   "cell_type": "code",
   "execution_count": null,
   "metadata": {
    "id": "AhkL_tdZouF9"
   },
   "outputs": [],
   "source": [
    "df_a=raw.drop(\"TIME\", axis=1) \n",
    "# time sütunundan zaman bilgileri ile yeni feature lar üretmiştik.\n",
    "# Tıme ı atıyoruz hata veriyor atmazsak. \n",
    "# Asıl data frame'de kalsın diye başka df adıyla kaydettik. "
   ]
  },
  {
   "cell_type": "code",
   "execution_count": null,
   "metadata": {
    "id": "htQo1bcHER2n"
   },
   "outputs": [],
   "source": [
    "df_a.columns"
   ]
  },
  {
   "cell_type": "code",
   "execution_count": null,
   "metadata": {
    "id": "jQcFA0ivEb-s"
   },
   "outputs": [],
   "source": [
    "model_list=['COUNTY_NAME_x', 'AVG_SPEED', 'VEHICLE_COUNT','ANNOUNCE_TYPE', 'DayofWeek', 'Month', 'AM/PM', 'is_weekend',\n",
    "        'Hour', 'Is_month_end',\n",
    "       'Is_month_start', 'Is_quarter_start', 'Is_quarter_end',\n",
    "       'Is_year_start', 'rush_hours', 'Season', 'is_holiday','is_pandemic','is_school']"
   ]
  },
  {
   "cell_type": "code",
   "execution_count": null,
   "metadata": {
    "id": "F5lCF3ppGcPa"
   },
   "outputs": [],
   "source": [
    "df_a = df_a.reindex(columns=model_list)"
   ]
  },
  {
   "cell_type": "code",
   "execution_count": null,
   "metadata": {
    "id": "O69QiIFiEg6Z"
   },
   "outputs": [],
   "source": [
    "len(model_list)"
   ]
  },
  {
   "cell_type": "code",
   "execution_count": null,
   "metadata": {
    "id": "tIycNFcmE62S"
   },
   "outputs": [],
   "source": [
    "df = df_a[model_list]"
   ]
  },
  {
   "cell_type": "code",
   "execution_count": null,
   "metadata": {
    "id": "vRCTFDW-Ec8n"
   },
   "outputs": [],
   "source": [
    "df.head()"
   ]
  },
  {
   "cell_type": "code",
   "execution_count": null,
   "metadata": {
    "id": "b1VTKis1PGCF"
   },
   "outputs": [],
   "source": [
    "df.isna().sum()"
   ]
  },
  {
   "cell_type": "markdown",
   "metadata": {
    "id": "9KWoQ1SppX8C"
   },
   "source": [
    "#### <font color='black'/> **Modele Girecek Feature'ların Nümerik Değerlere Çevrilmesi**</font>"
   ]
  },
  {
   "cell_type": "code",
   "execution_count": null,
   "metadata": {
    "id": "b1ncyrDsPqrx"
   },
   "outputs": [],
   "source": [
    "df[\"AM/PM\"]=df[\"AM/PM\"].replace({\"AM\":1,\"PM\":0}) "
   ]
  },
  {
   "cell_type": "code",
   "execution_count": null,
   "metadata": {
    "id": "m_llsIgoPqLc"
   },
   "outputs": [],
   "source": [
    "df.rename(columns={\"AM/PM\": \"is_AM\"}, inplace=True) "
   ]
  },
  {
   "cell_type": "code",
   "execution_count": null,
   "metadata": {
    "id": "Mucp3m3QPppv"
   },
   "outputs": [],
   "source": [
    "df.head()"
   ]
  },
  {
   "cell_type": "code",
   "execution_count": null,
   "metadata": {
    "id": "wMbrwrY-PFoL"
   },
   "outputs": [],
   "source": [
    "boolean_cols = [\"Is_month_end\",\"Is_month_start\",\"Is_quarter_start\",\"Is_quarter_end\",\"Is_year_start\",\"is_holiday\",\"is_pandemic\",\"is_school\"]\n",
    "for boolean_col in boolean_cols:\n",
    "  df[boolean_col] = df[boolean_col].replace({False: 0, True:1})"
   ]
  },
  {
   "cell_type": "code",
   "execution_count": null,
   "metadata": {
    "id": "Amc9sqcjOLD0"
   },
   "outputs": [],
   "source": [
    "df.info()"
   ]
  },
  {
   "cell_type": "markdown",
   "metadata": {
    "id": "Mf7hQgPIpmOZ"
   },
   "source": [
    "#### <font color='black'/> **Tüm Feature'lar İçin One-hot Encoding Yapılması**</font>"
   ]
  },
  {
   "cell_type": "code",
   "execution_count": null,
   "metadata": {
    "id": "-iPWKEnKQNqc"
   },
   "outputs": [],
   "source": [
    "pd.get_dummies(df).head()"
   ]
  },
  {
   "cell_type": "code",
   "execution_count": null,
   "metadata": {
    "id": "3Seztuc-QM30"
   },
   "outputs": [],
   "source": [
    "x = pd.get_dummies(df)\n",
    "for col in x.columns:\n",
    "         print(x[col].value_counts())"
   ]
  },
  {
   "cell_type": "markdown",
   "metadata": {
    "id": "jwquHp-Yp5-O"
   },
   "source": [
    "#### <font color='green'/>**Dosyanın Bu Halinin Feather ile Kaydedilmesi**  </font> "
   ]
  },
  {
   "cell_type": "code",
   "execution_count": null,
   "metadata": {
    "id": "tPyoQ4ZcKQMQ"
   },
   "outputs": [],
   "source": [
    "x=x.reset_index()"
   ]
  },
  {
   "cell_type": "code",
   "execution_count": null,
   "metadata": {
    "id": "HpkDzzgjQMUU"
   },
   "outputs": [],
   "source": [
    "import os\n",
    "\n",
    "os.makedirs('tmp', exist_ok=True) # Don't give error if file is already there\n",
    "x.to_feather('tmp/one_hot_encoding')"
   ]
  },
  {
   "cell_type": "markdown",
   "metadata": {
    "id": "6T5qN_G0qGuK"
   },
   "source": [
    "#### <font color='black'/> **Hedef Değişken Olarak Belirlediğimiz Ortalama Hızın Sınıflandırma Algoritması İçin Düzenlenmesi**</font>"
   ]
  },
  {
   "cell_type": "code",
   "execution_count": null,
   "metadata": {
    "id": "7h_x0F_RR-cD"
   },
   "outputs": [],
   "source": [
    "df_h = pd.read_feather('tmp/one_hot_encoding')"
   ]
  },
  {
   "cell_type": "code",
   "execution_count": null,
   "metadata": {
    "id": "J_SzB62gR91V"
   },
   "outputs": [],
   "source": [
    "df_h.head()"
   ]
  },
  {
   "cell_type": "code",
   "execution_count": null,
   "metadata": {
    "id": "LJkC7tLIR9E-"
   },
   "outputs": [],
   "source": [
    "df_h.set_index('combined',inplace=True)"
   ]
  },
  {
   "cell_type": "code",
   "execution_count": null,
   "metadata": {
    "id": "cIpeo0LCh3A5"
   },
   "outputs": [],
   "source": [
    "df=df_h.copy()"
   ]
  },
  {
   "cell_type": "code",
   "execution_count": null,
   "metadata": {
    "id": "vtfLu1DGhP_y"
   },
   "outputs": [],
   "source": [
    "raw = pd.read_feather(\"tmp/raw\")"
   ]
  },
  {
   "cell_type": "code",
   "execution_count": null,
   "metadata": {
    "id": "IauLiANYeBUY"
   },
   "outputs": [],
   "source": [
    "raw[raw[\"ANNOUNCE_TYPE\"]==\"YOĞUN TRAFIK\"][\"AVG_SPEED\"].median()"
   ]
  },
  {
   "cell_type": "code",
   "execution_count": null,
   "metadata": {
    "id": "TiTVY0zgKyK1"
   },
   "outputs": [],
   "source": [
    "treshold=raw[raw[\"ANNOUNCE_TYPE\"]==\"YOĞUN TRAFIK\"][\"AVG_SPEED\"].median()\n",
    "\n",
    "def is_traffic(speed):\n",
    "\n",
    "    if speed<=treshold:\n",
    "       return 1 \n",
    "    else:\n",
    "       return 0"
   ]
  },
  {
   "cell_type": "code",
   "execution_count": null,
   "metadata": {
    "id": "Y45rb5SELITF"
   },
   "outputs": [],
   "source": [
    "df[\"is_traffic\"]= df['AVG_SPEED'].map(is_traffic)"
   ]
  },
  {
   "cell_type": "code",
   "execution_count": null,
   "metadata": {
    "id": "lM562vzaME7f"
   },
   "outputs": [],
   "source": [
    "df.head()"
   ]
  },
  {
   "cell_type": "markdown",
   "metadata": {
    "id": "MLRB-Fs4qu-q"
   },
   "source": [
    "#### <font color='green'/>**Dosyanın Bu Halinin Feather ile Kaydedilmesi**  </font> "
   ]
  },
  {
   "cell_type": "code",
   "execution_count": null,
   "metadata": {
    "id": "3zQKohRAd-z9"
   },
   "outputs": [],
   "source": [
    "df=df.reset_index()"
   ]
  },
  {
   "cell_type": "code",
   "execution_count": null,
   "metadata": {
    "id": "kpauAOmriNZa"
   },
   "outputs": [],
   "source": [
    "import os\n",
    "\n",
    "os.makedirs('tmp', exist_ok=True) \n",
    "df.to_feather('tmp/df_classification')"
   ]
  },
  {
   "cell_type": "markdown",
   "metadata": {
    "id": "aMNLHTQLsWXT"
   },
   "source": [
    "### <font color='blue'/> **6. Model Kurma** </font>"
   ]
  },
  {
   "cell_type": "markdown",
   "metadata": {
    "id": "cFkfSxPiPu2g"
   },
   "source": [
    "**Kullanılan Algoritmalar**\n",
    "\n",
    "1.   Random Forest\n",
    "2.   XGBoost\n",
    "3.   Logistic Regression"
   ]
  },
  {
   "cell_type": "code",
   "execution_count": null,
   "metadata": {
    "id": "xH6E8kFEjcgH"
   },
   "outputs": [],
   "source": [
    "df_c=pd.read_feather('tmp/df_classification')"
   ]
  },
  {
   "cell_type": "code",
   "execution_count": null,
   "metadata": {
    "id": "_PUnZOvSjdQD"
   },
   "outputs": [],
   "source": [
    "df_c.set_index('combined',inplace=True)"
   ]
  },
  {
   "cell_type": "code",
   "execution_count": null,
   "metadata": {
    "id": "XGkleBNKjb14"
   },
   "outputs": [],
   "source": [
    "df_c.head()"
   ]
  },
  {
   "cell_type": "markdown",
   "metadata": {
    "id": "smdfH6Rb8S_i"
   },
   "source": [
    "#### <font color='green'/> **Random Forest** </font>"
   ]
  },
  {
   "cell_type": "code",
   "execution_count": null,
   "metadata": {
    "id": "R69Elj9SjXF8"
   },
   "outputs": [],
   "source": [
    "from sklearn.ensemble import RandomForestClassifier\n",
    "from sklearn.metrics import accuracy_score \n",
    "from sklearn.metrics import confusion_matrix as cm\n",
    "import matplotlib.pyplot as plt"
   ]
  },
  {
   "cell_type": "markdown",
   "metadata": {
    "id": "vpugkgy--vXM"
   },
   "source": [
    "##### <font color='brown'/> **Sadece avg_speed'i attım 100.000 veriyle çalıştırdım.** </font> "
   ]
  },
  {
   "cell_type": "code",
   "execution_count": null,
   "metadata": {
    "id": "AhoUQ6pQsH7o"
   },
   "outputs": [],
   "source": [
    "model_list_real=['combined','AVG_SPEED','VEHICLE_COUNT', 'is_AM', 'is_weekend',\n",
    "        'Hour', 'Is_month_end',\n",
    "       'Is_month_start', 'Is_quarter_start', 'Is_quarter_end',\n",
    "       'Is_year_start', 'rush_hours', 'Season', 'is_holiday',\n",
    "       'is_pandemic','is_school',\n",
    "        'COUNTY_NAME_x_BEŞİKTAŞ', 'COUNTY_NAME_x_ESENLER','COUNTY_NAME_x_KAĞITHANE',\n",
    "        'ANNOUNCE_TYPE_ALT YAPI ÇALIŞMASI',\n",
    "       'ANNOUNCE_TYPE_ARAÇ ARIZASI', 'ANNOUNCE_TYPE_ARAÇ YANGINI',\n",
    "       'ANNOUNCE_TYPE_BAKIM-ONARIM ÇALIŞMASI', 'ANNOUNCE_TYPE_HABER',\n",
    "       'ANNOUNCE_TYPE_KAZA BILDIRIMI', 'ANNOUNCE_TYPE_No Announce',\n",
    "       'ANNOUNCE_TYPE_YOLUN TRAFIĞE KAPANMASI', 'ANNOUNCE_TYPE_YOĞUN TRAFIK',\n",
    "       'ANNOUNCE_TYPE_ÇEVRE DÜZENLEMESI','DayofWeek_Friday',\n",
    "       'DayofWeek_Monday', 'DayofWeek_Saturday', 'DayofWeek_Sunday',\n",
    "       'DayofWeek_Thursday', 'DayofWeek_Tuesday', 'DayofWeek_Wednesday',\n",
    "       'Month_April', 'Month_February', 'Month_January', 'Month_June',\n",
    "       'Month_March', 'Month_May', 'Season_Spring', 'Season_Winter','is_traffic'] "
   ]
  },
  {
   "cell_type": "code",
   "execution_count": null,
   "metadata": {
    "id": "IXAuCjMzQVA7"
   },
   "outputs": [],
   "source": [
    "model_list_real1=['VEHICLE_COUNT', 'is_AM', 'is_weekend',\n",
    "        'Hour', 'Is_month_end',\n",
    "       'Is_month_start', 'Is_quarter_start', 'Is_quarter_end',\n",
    "       'Is_year_start', 'rush_hours', 'is_holiday',\n",
    "       'is_pandemic','is_school',\n",
    "        'COUNTY_NAME_x_BEŞİKTAŞ', 'COUNTY_NAME_x_ESENLER','COUNTY_NAME_x_KAĞITHANE',\n",
    "        'ANNOUNCE_TYPE_ALT YAPI ÇALIŞMASI',\n",
    "       'ANNOUNCE_TYPE_ARAÇ ARIZASI', 'ANNOUNCE_TYPE_ARAÇ YANGINI',\n",
    "       'ANNOUNCE_TYPE_BAKIM-ONARIM ÇALIŞMASI', 'ANNOUNCE_TYPE_HABER',\n",
    "       'ANNOUNCE_TYPE_KAZA BILDIRIMI', 'ANNOUNCE_TYPE_No Announce',\n",
    "       'ANNOUNCE_TYPE_YOLUN TRAFIĞE KAPANMASI', 'ANNOUNCE_TYPE_YOĞUN TRAFIK',\n",
    "       'ANNOUNCE_TYPE_ÇEVRE DÜZENLEMESI','DayofWeek_Friday',\n",
    "       'DayofWeek_Monday', 'DayofWeek_Saturday', 'DayofWeek_Sunday',\n",
    "       'DayofWeek_Thursday', 'DayofWeek_Tuesday', 'DayofWeek_Wednesday',\n",
    "       'Month_April', 'Month_February', 'Month_January', 'Month_June',\n",
    "       'Month_March', 'Month_May', 'Season_Spring', 'Season_Winter','is_traffic'] \n",
    "       # model_listten AVG_SPEED'i attım. "
   ]
  },
  {
   "cell_type": "code",
   "execution_count": null,
   "metadata": {
    "id": "qGGABUE7t30I"
   },
   "outputs": [],
   "source": [
    "df_c.head()"
   ]
  },
  {
   "cell_type": "code",
   "execution_count": null,
   "metadata": {
    "id": "LRJw6-SlOD-F"
   },
   "outputs": [],
   "source": [
    "df_c = df_c.reindex(columns=model_list_real1)"
   ]
  },
  {
   "cell_type": "code",
   "execution_count": null,
   "metadata": {
    "id": "ilvuZg-_1tpZ"
   },
   "outputs": [],
   "source": [
    "df=df_c[model_list_real1]"
   ]
  },
  {
   "cell_type": "code",
   "execution_count": null,
   "metadata": {
    "id": "fZhBCp01UB1A"
   },
   "outputs": [],
   "source": [
    "def split_train_test(df,n): \n",
    "    \n",
    "    return df[:n].copy(), df[n:].copy()"
   ]
  },
  {
   "cell_type": "code",
   "execution_count": null,
   "metadata": {
    "id": "VFC-pLQHScIC"
   },
   "outputs": [],
   "source": [
    "n_sample1 = 100000  \n",
    "n_remain1 = len(df)-n_sample1\n",
    "df_sample1, df_remain1 = split_train_test(df, n_sample1) # İlk 100.000'ini almış olduk. \n",
    "\n",
    "df_sample1.shape, df_remain1.shape"
   ]
  },
  {
   "cell_type": "code",
   "execution_count": null,
   "metadata": {
    "id": "ZMJmH6R-8KWt"
   },
   "outputs": [],
   "source": [
    "n_sample1_train = int(len(df_sample1)*(3/5)) \n",
    "n_sample1_test = int(len(df_sample1)-n_sample1_train)\n",
    "\n",
    "df_sample1_train, df_sample1_test = split_train_test(df_sample1, n_sample1_train)\n",
    "\n",
    "x_sample1_train=df_sample1_train.drop('is_traffic', axis=1)\n",
    "y_sample1_train = df_sample1_train[\"is_traffic\"]\n",
    "\n",
    "x_sample1_test=df_sample1_test.drop('is_traffic', axis=1)\n",
    "y_sample1_test = df_sample1_test[\"is_traffic\"]\n",
    "\n",
    "\n",
    "df_sample1_train.shape, df_sample1_test.shape, x_sample1_train.shape, y_sample1_train.shape, x_sample1_test.shape, x_sample1_test.shape"
   ]
  },
  {
   "cell_type": "code",
   "execution_count": null,
   "metadata": {
    "id": "nPKNql71qoes"
   },
   "outputs": [],
   "source": [
    "df.isnull().sum()"
   ]
  },
  {
   "cell_type": "code",
   "execution_count": null,
   "metadata": {
    "id": "PBP-COg81E4q"
   },
   "outputs": [],
   "source": [
    "m1 = RandomForestClassifier(n_jobs=-1) \n",
    "m1.fit(x_sample1_train,y_sample1_train)\n",
    "predictions = m1.predict(x_sample1_test)\n",
    "score = round(accuracy_score(y_sample1_test, predictions), 3)\n",
    "cm1 = cm(y_sample1_test, predictions)\n",
    "sns.heatmap(cm1, annot=True, fmt=\".0f\")\n",
    "plt.xlabel('Predicted Values')\n",
    "plt.ylabel('Actual Values')\n",
    "plt.title('Accuracy Score: {0}'.format(score), size = 15)\n",
    "plt.show()"
   ]
  },
  {
   "cell_type": "markdown",
   "metadata": {
    "id": "Btcgtpem-97e"
   },
   "source": [
    "##### <font color='brown'/>**Hem AVG_SPEED'i hem de Vehicle Count'ı attım. 100.000 veriyle çalıştırdım.** </font> "
   ]
  },
  {
   "cell_type": "code",
   "execution_count": null,
   "metadata": {
    "id": "33LFq3LNRsPT"
   },
   "outputs": [],
   "source": [
    "model_list_real2=['is_AM', 'is_weekend',\n",
    "        'Hour', 'Is_month_end',\n",
    "       'Is_month_start', 'Is_quarter_start', 'Is_quarter_end',\n",
    "       'Is_year_start', 'rush_hours', 'is_holiday',\n",
    "       'is_pandemic','is_school',\n",
    "        'COUNTY_NAME_x_BEŞİKTAŞ', 'COUNTY_NAME_x_ESENLER','COUNTY_NAME_x_KAĞITHANE',\n",
    "        'ANNOUNCE_TYPE_ALT YAPI ÇALIŞMASI',\n",
    "       'ANNOUNCE_TYPE_ARAÇ ARIZASI', 'ANNOUNCE_TYPE_ARAÇ YANGINI',\n",
    "       'ANNOUNCE_TYPE_BAKIM-ONARIM ÇALIŞMASI', 'ANNOUNCE_TYPE_HABER',\n",
    "       'ANNOUNCE_TYPE_KAZA BILDIRIMI', 'ANNOUNCE_TYPE_No Announce',\n",
    "       'ANNOUNCE_TYPE_YOLUN TRAFIĞE KAPANMASI', 'ANNOUNCE_TYPE_YOĞUN TRAFIK',\n",
    "       'ANNOUNCE_TYPE_ÇEVRE DÜZENLEMESI','DayofWeek_Friday',\n",
    "       'DayofWeek_Monday', 'DayofWeek_Saturday', 'DayofWeek_Sunday',\n",
    "       'DayofWeek_Thursday', 'DayofWeek_Tuesday', 'DayofWeek_Wednesday',\n",
    "       'Month_April', 'Month_February', 'Month_January', 'Month_June',\n",
    "       'Month_March', 'Month_May', 'Season_Spring', 'Season_Winter','is_traffic'] # AVG_SPEED ve VEHICLE_COUNT'ı attım."
   ]
  },
  {
   "cell_type": "code",
   "execution_count": null,
   "metadata": {
    "id": "mZ0SKbkTWioc"
   },
   "outputs": [],
   "source": [
    "df=df_c[model_list_real2]"
   ]
  },
  {
   "cell_type": "code",
   "execution_count": null,
   "metadata": {
    "id": "YoZ7fXr68gBn"
   },
   "outputs": [],
   "source": [
    "def split_train_test(df,n): \n",
    "    \n",
    "    return df[:n].copy(), df[n:].copy()"
   ]
  },
  {
   "cell_type": "code",
   "execution_count": null,
   "metadata": {
    "id": "0jjfI3Ew8ftB"
   },
   "outputs": [],
   "source": [
    "n_sample2 = 100000  \n",
    "n_remain2 = len(df)-n_sample2\n",
    "df_sample2, df_remain2 = split_train_test(df, n_sample2)\n",
    "\n",
    "df_sample2.shape, df_remain2.shape"
   ]
  },
  {
   "cell_type": "code",
   "execution_count": null,
   "metadata": {
    "id": "ui8oJiLk8fYc"
   },
   "outputs": [],
   "source": [
    "n_sample2_train = int(len(df_sample2)*(3/5)) # test setimin boyutu :len(df2)*(2/5)\n",
    "n_sample2_test = int(len(df_sample2)-n_sample2_train)\n",
    "\n",
    "df_sample2_train, df_sample2_test = split_train_test(df_sample2, n_sample2_train)\n",
    "\n",
    "x_sample2_train=df_sample2_train.drop('is_traffic', axis=1)\n",
    "y_sample2_train = df_sample2_train[\"is_traffic\"]\n",
    "\n",
    "x_sample2_test=df_sample2_test.drop('is_traffic', axis=1)\n",
    "y_sample2_test = df_sample2_test[\"is_traffic\"]\n",
    "\n",
    "\n",
    "df_sample2_train.shape, df_sample2_test.shape, x_sample2_train.shape, y_sample2_train.shape, x_sample2_test.shape, x_sample2_test.shape"
   ]
  },
  {
   "cell_type": "code",
   "execution_count": null,
   "metadata": {
    "id": "qMCLYFlrSY1R"
   },
   "outputs": [],
   "source": [
    "m2 = RandomForestClassifier(n_jobs=-1) \n",
    "m2.fit(x_sample2_train,y_sample2_train)\n",
    "predictions = m2.predict(x_sample2_test)\n",
    "score = round(accuracy_score(y_sample2_test, predictions), 3)\n",
    "cm1 = cm(y_sample2_test, predictions)\n",
    "sns.heatmap(cm1, annot=True, fmt=\".0f\")\n",
    "plt.xlabel('Predicted Values')\n",
    "plt.ylabel('Actual Values')\n",
    "plt.title('Accuracy Score: {0}'.format(score), size = 15)\n",
    "plt.show()"
   ]
  },
  {
   "cell_type": "markdown",
   "metadata": {
    "id": "KULNMB8MlFPG"
   },
   "source": [
    "##### <font color='brown'/>**Hem AVG_SPEED'ı hem de VEHICLE_COUNT'ı atıp tüm veride çalıştırıyorum.** </font>"
   ]
  },
  {
   "cell_type": "code",
   "execution_count": null,
   "metadata": {
    "id": "hAYY0aWOfTes"
   },
   "outputs": [],
   "source": [
    "df=df_c[model_list_real2]"
   ]
  },
  {
   "cell_type": "code",
   "execution_count": null,
   "metadata": {
    "id": "Bwo2BC_algab"
   },
   "outputs": [],
   "source": [
    "n_train = int(len(df)*(3/5)) # test setimin boyutu :len(df)*(2/5)\n",
    "n_test = int(len(df)-n_train)\n",
    "\n",
    "df_train, df_test = split_train_test(df, n_train)"
   ]
  },
  {
   "cell_type": "code",
   "execution_count": null,
   "metadata": {
    "id": "OOsQUl7klMbA"
   },
   "outputs": [],
   "source": [
    "x_train = df_train.drop('is_traffic', axis=1)\n",
    "y_train = df_train[\"is_traffic\"]\n",
    "\n",
    "x_test = df_test.drop('is_traffic', axis=1)\n",
    "y_test = df_test[\"is_traffic\"]"
   ]
  },
  {
   "cell_type": "code",
   "execution_count": null,
   "metadata": {
    "id": "OjWLPHsx0sHi"
   },
   "outputs": [],
   "source": [
    "m3 = RandomForestClassifier(n_jobs=-1) \n",
    "m3.fit(x_train,y_train)\n",
    "predictions = m3.predict(x_test)\n",
    "score = round(accuracy_score(y_test, predictions), 3)\n",
    "cm1 = cm(y_test, predictions)\n",
    "sns.heatmap(cm1, annot=True, fmt=\".0f\")\n",
    "plt.xlabel('Predicted Values')\n",
    "plt.ylabel('Actual Values')\n",
    "plt.title('Accuracy Score: {0}'.format(score), size = 15)\n",
    "plt.show()"
   ]
  },
  {
   "cell_type": "markdown",
   "metadata": {
    "id": "DoQHjbeREy04"
   },
   "source": [
    "##### <font color='brown'/>**Hem AVG_SPEED'i hem de VEHICLE COUNT'ı atıp tüm veriyle çalıştırdığımız modelin feature importance'ına bakıyoruz.** </font>"
   ]
  },
  {
   "cell_type": "code",
   "execution_count": null,
   "metadata": {
    "id": "FVkrVZ-bEycJ"
   },
   "outputs": [],
   "source": [
    "def rf_feat_importance(m, df):\n",
    "    return pd.DataFrame({'columns':df.columns, 'importance':m.feature_importances_}\n",
    "                       ).sort_values('importance', ascending=False)"
   ]
  },
  {
   "cell_type": "code",
   "execution_count": null,
   "metadata": {
    "id": "ZHbDx5jgEyLj"
   },
   "outputs": [],
   "source": [
    "feature_importance = rf_feat_importance(m3, x_train); "
   ]
  },
  {
   "cell_type": "code",
   "execution_count": null,
   "metadata": {
    "id": "cmv0Lk66Ex6D"
   },
   "outputs": [],
   "source": [
    "feature_importance[:20]"
   ]
  },
  {
   "cell_type": "code",
   "execution_count": null,
   "metadata": {
    "id": "QJ0SlIPdExUq"
   },
   "outputs": [],
   "source": [
    "feature_importance.plot('columns', 'importance', figsize=(10,6), legend=False);"
   ]
  },
  {
   "cell_type": "markdown",
   "metadata": {
    "id": "jkk_7EWqB_-4"
   },
   "source": [
    "#### <font color='green'/> **XGBoost** </font>"
   ]
  },
  {
   "cell_type": "code",
   "execution_count": null,
   "metadata": {
    "id": "WTOMzd5tifBF"
   },
   "outputs": [],
   "source": [
    "import xgboost as xgb"
   ]
  },
  {
   "cell_type": "markdown",
   "metadata": {
    "id": "jAq8k4FvurJD"
   },
   "source": [
    "##### <font color='brown'/>**Hem AVG_SPEED'i hem de Vehicle Count'ı attım. 100.000 veriyle çalıştırdım.** </font> "
   ]
  },
  {
   "cell_type": "code",
   "execution_count": null,
   "metadata": {
    "id": "lUtyNkKYBRp0"
   },
   "outputs": [],
   "source": [
    "classifier = xgb.XGBClassifier(\n",
    "    n_estimators=100,\n",
    "    reg_lambda=1,\n",
    "    gamma=0,\n",
    "    max_depth=3\n",
    ")\n",
    "\n",
    "classifier.fit(x_sample2_train, y_sample2_train)"
   ]
  },
  {
   "cell_type": "code",
   "execution_count": null,
   "metadata": {
    "id": "uAR0-Zw-S1n2"
   },
   "outputs": [],
   "source": [
    "predictions = classifier.predict(x_sample2_test)\n",
    "score = round(accuracy_score(y_sample2_test, predictions), 3)\n",
    "cm1 = cm(y_sample2_test, predictions)\n",
    "sns.heatmap(cm1, annot=True, fmt=\".0f\")\n",
    "plt.xlabel('Predicted Values')\n",
    "plt.ylabel('Actual Values')\n",
    "plt.title('Accuracy Score: {0}'.format(score), size = 15)\n",
    "plt.show()"
   ]
  },
  {
   "cell_type": "markdown",
   "metadata": {
    "id": "Ooehmusm3QWa"
   },
   "source": [
    "##### <font color='brown'/>**XGBOOST algoritmasını tüm veride çalıştırıyoruz.** </font> "
   ]
  },
  {
   "cell_type": "code",
   "execution_count": null,
   "metadata": {
    "id": "JjFjEdWOS1F0"
   },
   "outputs": [],
   "source": [
    "classifier = xgb.XGBClassifier(\n",
    "    n_estimators=100,\n",
    "    reg_lambda=1,\n",
    "    gamma=0,\n",
    "    max_depth=3\n",
    ")\n",
    "\n",
    "classifier.fit(x_train, y_train)"
   ]
  },
  {
   "cell_type": "code",
   "execution_count": null,
   "metadata": {
    "id": "BV8RfGyZS0mT"
   },
   "outputs": [],
   "source": [
    "predictions = classifier.predict(x_test)\n",
    "score = round(accuracy_score(y_test, predictions), 3)\n",
    "cm1 = cm(y_test, predictions)\n",
    "sns.heatmap(cm1, annot=True, fmt=\".0f\")\n",
    "plt.xlabel('Predicted Values')\n",
    "plt.ylabel('Actual Values')\n",
    "plt.title('Accuracy Score: {0}'.format(score), size = 15)\n",
    "plt.show()"
   ]
  },
  {
   "cell_type": "markdown",
   "metadata": {
    "id": "H50o3GGkD5ap"
   },
   "source": [
    "#### <font color='green'/> **Logistic Regression**  </font>"
   ]
  },
  {
   "cell_type": "code",
   "execution_count": null,
   "metadata": {
    "id": "RpzxYGzrvLk1"
   },
   "outputs": [],
   "source": [
    "from sklearn.linear_model import LogisticRegression\n",
    "from sklearn import metrics"
   ]
  },
  {
   "cell_type": "markdown",
   "metadata": {
    "id": "Kxrtxj0CvAts"
   },
   "source": [
    "##### <font color='brown'/>**Hem AVG_SPEED'i hem de Vehicle Count'ı attım. 100.000 veriyle çalıştırdım.** </font> "
   ]
  },
  {
   "cell_type": "code",
   "execution_count": null,
   "metadata": {
    "id": "RpOEfirpvE9j"
   },
   "outputs": [],
   "source": [
    "logreg = LogisticRegression()\n",
    "logreg.fit(x_sample2_train, y_sample2_train)"
   ]
  },
  {
   "cell_type": "code",
   "execution_count": null,
   "metadata": {
    "id": "cqUqOf4pvEpQ"
   },
   "outputs": [],
   "source": [
    "predictions = logreg.predict(x_sample2_test)\n",
    "score = round(accuracy_score(y_sample2_test, predictions), 3)\n",
    "cm1 = cm(y_sample2_test, predictions)\n",
    "sns.heatmap(cm1, annot=True, fmt=\".0f\")\n",
    "plt.xlabel('Predicted Values')\n",
    "plt.ylabel('Actual Values')\n",
    "plt.title('Accuracy Score: {0}'.format(score), size = 15)\n",
    "plt.show()"
   ]
  },
  {
   "cell_type": "markdown",
   "metadata": {
    "id": "1udOtVcj4kDL"
   },
   "source": [
    "##### <font color='brown'/>**Logistic Regression algoritmasını tüm veride çalıştırıyoruz.** </font> "
   ]
  },
  {
   "cell_type": "code",
   "execution_count": null,
   "metadata": {
    "id": "mSLl7q3XCPAT"
   },
   "outputs": [],
   "source": [
    "logreg = LogisticRegression()\n",
    "logreg.fit(x_train, y_train)"
   ]
  },
  {
   "cell_type": "code",
   "execution_count": null,
   "metadata": {
    "id": "lBul_MdJCOyF"
   },
   "outputs": [],
   "source": [
    "predictions = logreg.predict(x_test)\n",
    "score = round(accuracy_score(y_test, predictions), 3)\n",
    "cm1 = cm(y_test, predictions)\n",
    "sns.heatmap(cm1, annot=True, fmt=\".0f\")\n",
    "plt.xlabel('Predicted Values')\n",
    "plt.ylabel('Actual Values')\n",
    "plt.title('Accuracy Score: {0}'.format(score), size = 15)\n",
    "plt.show()"
   ]
  },
  {
   "cell_type": "markdown",
   "metadata": {
    "id": "TdPL368sxFqQ"
   },
   "source": [
    "### <font color='blue'/> **7. y değerinin belirlenmesi** </font>"
   ]
  },
  {
   "cell_type": "code",
   "execution_count": null,
   "metadata": {
    "id": "fXfdGPb8G4tC"
   },
   "outputs": [],
   "source": [
    "import seaborn as sns\n",
    "import matplotlib.pyplot as plt"
   ]
  },
  {
   "cell_type": "code",
   "execution_count": null,
   "metadata": {
    "id": "PHFU_bnTw_Jl"
   },
   "outputs": [],
   "source": [
    "plt.style.use('ggplot')\n",
    "plt.figure(figsize=[8,7])\n",
    "sns.distplot(data['AVG_SPEED']);  #ortalama hızın dağılımı(y ekseni : o hızın ne kadar görüldüğünü temsil ediyor)"
   ]
  },
  {
   "cell_type": "code",
   "execution_count": null,
   "metadata": {
    "id": "AG_f8KooMGB8"
   },
   "outputs": [],
   "source": [
    "\n",
    "list = ['Year','Is_year_end'] # verimiz 2020 yılı ve yıl sonu olmadığı için heatmapte boş geliyordu bu featurelar. o yüzden çıkardık\n",
    "x = data.drop(list,axis = 1 ) \n"
   ]
  },
  {
   "cell_type": "code",
   "execution_count": null,
   "metadata": {
    "id": "iDp2Gz08MStE"
   },
   "outputs": [],
   "source": [
    "f, ax = plt.subplots(figsize=(18, 18))\n",
    "sns.heatmap(x.corr(), annot=True,linewidths=.5)  #annot=true her hücreye değerleri yazdırmak için\n",
    "plt.show()\n"
   ]
  },
  {
   "cell_type": "code",
   "execution_count": null,
   "metadata": {
    "id": "qOaB-cxCxni3"
   },
   "outputs": [],
   "source": [
    "#hız ile araç sayısı arasıdaki ilişki\n",
    "plt.figure(figsize=(10,6))\n",
    "plt.scatter(x=data['VEHICLE_COUNT'], y=data['AVG_SPEED'],c=\"#faa307ff\", alpha=0.5)\n",
    "plt.title('Araç Sayısına İlişkin Ortalama Hız', weight='bold', fontsize=15)\n",
    "\n",
    "plt.xlabel('Araç Sayısı', weight='bold', fontsize=12)\n",
    "plt.ylabel('Ortalama Hız', weight='bold', fontsize=12)\n",
    "plt.xticks(weight='bold')\n",
    "plt.yticks(weight='bold')\n",
    "plt.show()\n"
   ]
  },
  {
   "cell_type": "code",
   "execution_count": null,
   "metadata": {
    "id": "W54xZbdU46rt"
   },
   "outputs": [],
   "source": [
    "data.describe()"
   ]
  },
  {
   "cell_type": "code",
   "execution_count": null,
   "metadata": {
    "id": "jemU3W6I5Ebc"
   },
   "outputs": [],
   "source": [
    "data.info()"
   ]
  },
  {
   "cell_type": "code",
   "execution_count": null,
   "metadata": {
    "id": "tABkP72HsLWX"
   },
   "outputs": [],
   "source": [
    "type(data['Date'])"
   ]
  },
  {
   "cell_type": "markdown",
   "metadata": {
    "id": "Cu2TDP0NlyCx"
   },
   "source": [
    "### <font color='blue'/> **8. Görselleştirme Çalışması** </font>"
   ]
  },
  {
   "cell_type": "code",
   "execution_count": null,
   "metadata": {
    "id": "PUlNhFDAJjHA"
   },
   "outputs": [],
   "source": [
    "ax=sns.countplot(td['ANNOUNCE_TYPE'],palette=\"RdYlGn\") #veri setindeki tüm bildirimler\n",
    "ax.set_xticklabels(ax.get_xticklabels(), rotation=30, ha=\"right\")\n",
    "plt.tight_layout()\n",
    "plt.show()"
   ]
  },
  {
   "cell_type": "code",
   "execution_count": null,
   "metadata": {
    "id": "KqnfZfXxJjhS"
   },
   "outputs": [],
   "source": [
    "g = sns.catplot(x=\"ANNOUNCE_TYPE\",  col=\"COUNTY_NAME\",  #ilçelere göre bildirimler\n",
    "...                 data=td, kind=\"count\",\n",
    "...                 height=4, aspect=.9,palette=\"RdYlGn\"); #\"YlOrRd\"\n",
    "g.set_xticklabels(rotation=80)"
   ]
  },
  {
   "cell_type": "markdown",
   "metadata": {
    "id": "AGq3tbZQo_Gh"
   },
   "source": [
    "#### <font color='green'/> **Trafik Yoğunluk Verisiyle Grafik Çalışmaları** </font>"
   ]
  },
  {
   "cell_type": "code",
   "execution_count": null,
   "metadata": {
    "id": "ojPygG1co-sC"
   },
   "outputs": [],
   "source": [
    "import datetime\n",
    "import pandas as pd\n",
    "import seaborn as sns\n",
    "import matplotlib.pyplot as plt\n",
    "%matplotlib inline\n",
    "#%matplotlib qt\n",
    "# pip install PyQt5"
   ]
  },
  {
   "cell_type": "code",
   "execution_count": null,
   "metadata": {
    "id": "upz7sMdkpRZb"
   },
   "outputs": [],
   "source": [
    "df_traffic=pd.read_json(\"TRAFFIC_DENSITY.json\",encoding = \"UTF-8\")"
   ]
  },
  {
   "cell_type": "code",
   "execution_count": null,
   "metadata": {
    "id": "XmPXGV_EpS9u"
   },
   "outputs": [],
   "source": [
    "df_traffic.head()"
   ]
  },
  {
   "cell_type": "code",
   "execution_count": null,
   "metadata": {
    "id": "baREYHqxpVxz"
   },
   "outputs": [],
   "source": [
    "df_traffic.sort_values(by=['DATE_TIME','GEOHASH6'],inplace=True)"
   ]
  },
  {
   "cell_type": "code",
   "execution_count": null,
   "metadata": {
    "id": "wbGmEHumpYFf"
   },
   "outputs": [],
   "source": [
    "df_traffic.head()"
   ]
  },
  {
   "cell_type": "code",
   "execution_count": null,
   "metadata": {
    "id": "bLWaiMynpZiL"
   },
   "outputs": [],
   "source": [
    "df_traffic[['year','month','day']] = df_traffic.DATE_TIME.apply(lambda x: pd.Series(\n",
    "    x.strftime(\"%Y,%m,%d\").split(\",\"))) # split date into year, month, day"
   ]
  },
  {
   "cell_type": "code",
   "execution_count": null,
   "metadata": {
    "id": "UK1sAPUKpcAk"
   },
   "outputs": [],
   "source": [
    "df_traffic.head()"
   ]
  },
  {
   "cell_type": "code",
   "execution_count": null,
   "metadata": {
    "id": "SmYkQ8CcpeaP"
   },
   "outputs": [],
   "source": [
    "d = df_traffic.groupby(['month']).mean()"
   ]
  },
  {
   "cell_type": "code",
   "execution_count": null,
   "metadata": {
    "id": "u-_N9Rc8pgMV"
   },
   "outputs": [],
   "source": [
    "d.reset_index(inplace=True)\n",
    "d"
   ]
  },
  {
   "cell_type": "code",
   "execution_count": null,
   "metadata": {
    "id": "M-W7xzekpmOX"
   },
   "outputs": [],
   "source": [
    "df = pd.DataFrame(d) \n",
    "  \n",
    "# Declare a list that is to be converted into a column \n",
    "Month = ['Ocak', 'Şubat', 'Mart', 'Nisan', \"Mayıs\", \"Haziran\"] \n",
    "  \n",
    "df['Aylar'] = Month \n",
    " \n",
    "df "
   ]
  },
  {
   "cell_type": "code",
   "execution_count": null,
   "metadata": {
    "id": "3ttV69UhpsoL"
   },
   "outputs": [],
   "source": [
    "sns.distplot(d.AVG_SPEED); #yoğunluk grafiği"
   ]
  },
  {
   "cell_type": "code",
   "execution_count": null,
   "metadata": {
    "id": "U8itwrpRpvuN"
   },
   "outputs": [],
   "source": [
    "from matplotlib import pyplot"
   ]
  },
  {
   "cell_type": "code",
   "execution_count": null,
   "metadata": {
    "id": "FaLDmYUepzVd"
   },
   "outputs": [],
   "source": [
    "pyplot.figure(figsize=(10,5))\n",
    "plt.plot(d.Aylar,d.AVG_SPEED, \"#E85D04\", linewidth=5.0, label='Ortalama Hız')\n",
    "plt.title(\"Aylara Göre Ortalama Araç Hızları\")\n",
    "plt.xlabel(\"Aylar\")\n",
    "plt.legend(loc='lower left')\n",
    "plt.grid(False)\n",
    "plt.ylabel(\"Ortalama Araç Hızları\");"
   ]
  },
  {
   "cell_type": "code",
   "execution_count": null,
   "metadata": {
    "id": "Te3mTPG1p1Zn"
   },
   "outputs": [],
   "source": [
    "pyplot.figure(figsize=(10,5))\n",
    "pyplot.plot(d.Aylar,d.VEHICLE_COUNT,\"#DC2F02\", linewidth=7.0, linestyle=\"--\", label='Araç Sayısı')\n",
    "pyplot.title('Aylara Göre Ortalama Araç Sayısı')\n",
    "plt.legend(loc='lower left')\n",
    "plt.grid(False)\n",
    "pyplot.xlabel('Aylar');\n",
    "plt.ylabel(\"Ortalama Araç Sayıları\");"
   ]
  },
  {
   "cell_type": "code",
   "execution_count": null,
   "metadata": {
    "id": "24rxK_hbp3xU"
   },
   "outputs": [],
   "source": [
    "pyplot.figure(figsize=(10,5))\n",
    "pyplot.plot(d.Aylar,d.VEHICLE_COUNT,\"#DC2F02\", linewidth=7.0, linestyle=\"--\", label='Araç Sayısı')\n",
    "pyplot.title('Aylara Göre Ortalama Araç Sayısı')\n",
    "plt.legend(loc='lower left')\n",
    "plt.grid(False)\n",
    "pyplot.xlabel('Aylar');\n",
    "plt.ylabel(\"Ortalama Araç Sayıları\");"
   ]
  },
  {
   "cell_type": "markdown",
   "metadata": {
    "id": "XWfP2dPKn0gG"
   },
   "source": [
    "#### <font color='green'/> **TKM Verisindeki Kooordinat Verisinden Yararlanılarak Harita Görselleştirme Çalışması** </font>"
   ]
  },
  {
   "cell_type": "code",
   "execution_count": null,
   "metadata": {
    "id": "2rWCqfNbneai"
   },
   "outputs": [],
   "source": [
    "import datetime\n",
    "import pandas as pd\n",
    "import seaborn as sns\n",
    "import matplotlib.pyplot as plt\n",
    "from matplotlib import pyplot\n",
    "%matplotlib inline\n",
    "#%matplotlib qt\n",
    "# pip install PyQt5"
   ]
  },
  {
   "cell_type": "code",
   "execution_count": null,
   "metadata": {
    "id": "7XCpqDPbnknp"
   },
   "outputs": [],
   "source": [
    "df_tkm =pd.read_excel(\"TKM.xlsx\",encoding = \"UTF-8\")\n",
    "df_tkm.head()"
   ]
  },
  {
   "cell_type": "code",
   "execution_count": null,
   "metadata": {
    "id": "nwSSyQ9dnrUJ"
   },
   "outputs": [],
   "source": [
    "df_tkm.drop([\"Unnamed: 0\",\"COUNTY_NAME\",\"GEOHASH_CHECK\",\"TRAFIK_DENSITY_Geohash\"], axis=1, inplace=True)  "
   ]
  },
  {
   "cell_type": "code",
   "execution_count": null,
   "metadata": {
    "id": "LQu_nKo9ntjd"
   },
   "outputs": [],
   "source": [
    "df_tkm.head()"
   ]
  },
  {
   "cell_type": "code",
   "execution_count": null,
   "metadata": {
    "id": "3W2EUOShnvZC"
   },
   "outputs": [],
   "source": [
    "df_tkm[['year','month','day']] = df_tkm.ANNOUNCE_TIME.apply(lambda x: pd.Series(\n",
    "    x.strftime(\"%Y,%m,%d\").split(\",\"))) # split date into year, month, day"
   ]
  },
  {
   "cell_type": "code",
   "execution_count": null,
   "metadata": {
    "id": "WWUlUTNfnxsS"
   },
   "outputs": [],
   "source": [
    "df_tkm.head()"
   ]
  },
  {
   "cell_type": "code",
   "execution_count": null,
   "metadata": {
    "id": "Ec3ZOm_OoEiT"
   },
   "outputs": [],
   "source": [
    "!pip install folium \n",
    "#conda install -c conda-forge folium\n",
    "import folium"
   ]
  },
  {
   "cell_type": "code",
   "execution_count": null,
   "metadata": {
    "id": "XQgi9uRXoI5Z"
   },
   "outputs": [],
   "source": [
    "from folium import plugins\n",
    "m = folium.Map(location=[41,29],\n",
    "tiles=\"cartodbpositron\",\n",
    " width=\"%100\",\n",
    "height=\"%100\",\n",
    "zoom_start=10)\n",
    " \n",
    "minimap = plugins.MiniMap()\n",
    "m.add_child(minimap)\n",
    "m"
   ]
  },
  {
   "cell_type": "code",
   "execution_count": null,
   "metadata": {
    "id": "SfXs3LknoLPZ"
   },
   "outputs": [],
   "source": [
    "locations = list(zip(df_tkm.ANNOUNCE_LATITUDE, df_tkm.ANNOUNCE_LONGTITUDE))"
   ]
  },
  {
   "cell_type": "code",
   "execution_count": null,
   "metadata": {
    "id": "-_MaFZLVoO4a"
   },
   "outputs": [],
   "source": [
    "m = folium.Map(location=[41,29],\n",
    "tiles=\"cartodbpositron\",\n",
    " width=\"%100\",\n",
    "height=\"%100\",\n",
    "zoom_start=10)\n",
    "for i in range(len(locations)):\n",
    "    folium.CircleMarker(location=locations[i],radius=1, color='#FF7D40',).add_to(m)\n",
    "m"
   ]
  },
  {
   "cell_type": "code",
   "execution_count": null,
   "metadata": {
    "id": "GcxZx-vfoTq1"
   },
   "outputs": [],
   "source": [
    "# convert to (n, 2) nd-array format for heatmap\n",
    "stationArr = df_tkm[['ANNOUNCE_LATITUDE', 'ANNOUNCE_LONGTITUDE']].as_matrix()\n",
    "\n",
    "# plot heatmap\n",
    "m.add_child(plugins.HeatMap(stationArr, radius=15))\n",
    "m \n",
    "\n",
    "m.add_child(folium.LayerControl())\n",
    "m.save('heatmap.html')"
   ]
  },
  {
   "cell_type": "code",
   "execution_count": null,
   "metadata": {
    "id": "gIAlqk9VoRBZ"
   },
   "outputs": [],
   "source": [
    "m1 = folium.Map(location=[41,29],\n",
    "tiles=\"cartodbpositron\",\n",
    "width=\"%100\",\n",
    "height=\"%100\",\n",
    "legend_name='Trafik Duyurular',\n",
    "zoom_start=10)\n",
    "\n",
    "cluster = plugins.MarkerCluster(locations=locations,                     \n",
    "               popups=df_tkm[\"ANNOUNCE_TYPE\"].tolist(), encoding=\"UTF-8\")  \n",
    "m1.add_child(cluster)\n",
    "m1\n",
    "m1.add_child(folium.LayerControl())\n",
    "m1.save(outfile='duyurular.html')"
   ]
  }
 ],
 "metadata": {
  "accelerator": "TPU",
  "colab": {
   "collapsed_sections": [
    "Av6ZUYEzWkh_"
   ],
   "name": "Copy of Prediction_of_Traffic_Density.ipynb",
   "private_outputs": true,
   "provenance": []
  },
  "kernelspec": {
   "display_name": "Python 3",
   "language": "python",
   "name": "python3"
  },
  "language_info": {
   "codemirror_mode": {
    "name": "ipython",
    "version": 3
   },
   "file_extension": ".py",
   "mimetype": "text/x-python",
   "name": "python",
   "nbconvert_exporter": "python",
   "pygments_lexer": "ipython3",
   "version": "3.7.6"
  }
 },
 "nbformat": 4,
 "nbformat_minor": 1
}
